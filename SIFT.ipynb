{
  "nbformat": 4,
  "nbformat_minor": 0,
  "metadata": {
    "colab": {
      "name": "SIFT.ipynb",
      "provenance": [],
      "collapsed_sections": [],
      "authorship_tag": "ABX9TyMVV+lVxt5sS1V5u0frlzTn",
      "include_colab_link": true
    },
    "kernelspec": {
      "name": "python3",
      "display_name": "Python 3"
    },
    "language_info": {
      "name": "python"
    }
  },
  "cells": [
    {
      "cell_type": "markdown",
      "metadata": {
        "id": "view-in-github",
        "colab_type": "text"
      },
      "source": [
        "<a href=\"https://colab.research.google.com/github/raphi-web/keyPointDetector/blob/main/SIFT.ipynb\" target=\"_parent\"><img src=\"https://colab.research.google.com/assets/colab-badge.svg\" alt=\"Open In Colab\"/></a>"
      ]
    },
    {
      "cell_type": "code",
      "execution_count": null,
      "metadata": {
        "colab": {
          "base_uri": "https://localhost:8080/"
        },
        "id": "x6a-oR-CR1NQ",
        "outputId": "83fbe1eb-e8b6-40fa-db42-7ab3c0ac21dd"
      },
      "outputs": [
        {
          "output_type": "stream",
          "name": "stdout",
          "text": [
            "Cloning into 'keyPointDetector'...\n",
            "remote: Enumerating objects: 8, done.\u001b[K\n",
            "remote: Counting objects: 100% (8/8), done.\u001b[K\n",
            "remote: Compressing objects: 100% (6/6), done.\u001b[K\n",
            "remote: Total 8 (delta 0), reused 0 (delta 0), pack-reused 0\u001b[K\n",
            "Unpacking objects: 100% (8/8), done.\n"
          ]
        }
      ],
      "source": [
        "!git clone https://github.com/raphi-web/keyPointDetector.git"
      ]
    },
    {
      "cell_type": "code",
      "source": [
        "import matplotlib.pyplot as plt \n",
        "from matplotlib.pyplot import imshow, imread\n",
        "\n",
        "import skimage\n",
        "from skimage.filters import gaussian\n",
        "import numpy as np\n",
        "\n",
        "from scipy.ndimage import maximum_filter"
      ],
      "metadata": {
        "id": "ShD3BKwvVMba"
      },
      "execution_count": null,
      "outputs": []
    },
    {
      "cell_type": "code",
      "source": [
        "img_file = \"keyPointDetector/Imgs/img1.JPG\"\n",
        "img = skimage.color.rgb2gray(imread(img_file))"
      ],
      "metadata": {
        "id": "9ZYhdU3wUwe9"
      },
      "execution_count": null,
      "outputs": []
    },
    {
      "cell_type": "code",
      "source": [
        "img.shape"
      ],
      "metadata": {
        "colab": {
          "base_uri": "https://localhost:8080/"
        },
        "id": "kE50yn7BfLaF",
        "outputId": "289cf937-7d12-49da-81da-1bdaac05667b"
      },
      "execution_count": null,
      "outputs": [
        {
          "output_type": "execute_result",
          "data": {
            "text/plain": [
              "(3024, 4032)"
            ]
          },
          "metadata": {},
          "execution_count": 60
        }
      ]
    },
    {
      "cell_type": "code",
      "source": [
        "def gen_octave(img):\n",
        "  octaves = []\n",
        "  for _ in range(1,5):\n",
        "    img_oct = img.copy()\n",
        "    differences = []\n",
        "    first = img_oct\n",
        "    for sig in range(2,6):\n",
        "      second = gaussian(img_oct,2**sig)\n",
        "      differences.append(np.expand_dims(first - second,0))\n",
        "      second = first\n",
        "\n",
        "    octaves.append(np.concatenate(differences))\n",
        "\n",
        "    img = skimage.transform.rescale(img,0.5)\n",
        "    \n",
        "  return octaves\n",
        "  "
      ],
      "metadata": {
        "id": "m7tc8vq4WFoA"
      },
      "execution_count": null,
      "outputs": []
    },
    {
      "cell_type": "code",
      "source": [
        "octaves = gen_octave(img)"
      ],
      "metadata": {
        "id": "1ave2JlEXuns"
      },
      "execution_count": null,
      "outputs": []
    },
    {
      "cell_type": "code",
      "source": [
        "octaves[0][0].shape"
      ],
      "metadata": {
        "colab": {
          "base_uri": "https://localhost:8080/"
        },
        "id": "YjK5RQBVn_R5",
        "outputId": "7aaf1af1-dd2c-421e-c737-9714a1f5333e"
      },
      "execution_count": null,
      "outputs": [
        {
          "output_type": "execute_result",
          "data": {
            "text/plain": [
              "(3024, 4032)"
            ]
          },
          "metadata": {},
          "execution_count": 128
        }
      ]
    },
    {
      "cell_type": "code",
      "source": [
        "def search_maxima(octaves):\n",
        "  nrows,ncols = octaves[0][0].shape\n",
        "  rescaled_octaves = []\n",
        "  # search for maxima\n",
        "  for oct in octaves:\n",
        "    oct = np.stack([maximum_filter(img,3) == img for img in oct])  # by loc\n",
        "    oct = np.all(oct,0) # by blur\n",
        "    rescaled_octaves.append(skimage.transform.resize(oct,(nrows,ncols)))\n",
        "\n",
        "  # by scale\n",
        "  return np.all(np.stack(rescaled_octaves),0) "
      ],
      "metadata": {
        "id": "XM8DqoWIne8B"
      },
      "execution_count": null,
      "outputs": []
    },
    {
      "cell_type": "code",
      "source": [
        "ro = search_maxima(octaves)"
      ],
      "metadata": {
        "id": "4i8F-91okEOZ"
      },
      "execution_count": null,
      "outputs": []
    },
    {
      "cell_type": "code",
      "source": [
        "plt.imshow(ro)"
      ],
      "metadata": {
        "colab": {
          "base_uri": "https://localhost:8080/",
          "height": 286
        },
        "id": "W_QgZWaUp4RM",
        "outputId": "7fe2cfae-dd4e-43d8-e8ea-fc4df184830a"
      },
      "execution_count": null,
      "outputs": [
        {
          "output_type": "execute_result",
          "data": {
            "text/plain": [
              "<matplotlib.image.AxesImage at 0x7fdba4ddc410>"
            ]
          },
          "metadata": {},
          "execution_count": 180
        },
        {
          "output_type": "display_data",
          "data": {
            "image/png": "[encoded data removed]",
            "text/plain": [
              "<Figure size 432x288 with 1 Axes>"
            ]
          },
          "metadata": {
            "needs_background": "light"
          }
        }
      ]
    }
  ]
}